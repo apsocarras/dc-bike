{
 "cells": [
  {
   "attachments": {},
   "cell_type": "markdown",
   "metadata": {},
   "source": [
    "##### API Endpoints: \n",
    "\n",
    "**[index](https://gbfs.capitalbikeshare.com/gbfs/gbfs.json)**\n",
    "* ~~system_information~~ (Phone number, timezone, etc.)\n",
    "* ~~system_hours~~\n",
    "* ~~system_calendar~~\n",
    "* ~~system_alerts~~ \n",
    "\n",
    "**[station_information](https://gbfs.capitalbikeshare.com/gbfs/en/station_information.json)**\n",
    "\n",
    "```json\n",
    "stations:\n",
    "  0: \n",
    "    legacy_id:\t\"592\"\n",
    "    external_id:\t\"8bbafd08-edb1-426d-94f4-c7b7d9be34dd\"\n",
    "    capacity:\t19\n",
    "    electric_bike_surcharge_waiver:\tfalse\n",
    "    rental_methods:\t\n",
    "      0:\t\"KEY\"\n",
    "      1:\t\"CREDITCARD\"\n",
    "    short_name:\t\"31528\"\n",
    "    station_type:\t\"classic\"\n",
    "    has_kiosk:\ttrue\n",
    "    lon:\t-76.997226\n",
    "    station_id:\t\"8bbafd08-edb1-426d-94f4-c7b7d9be34dd\"\n",
    "    eightd_has_key_dispenser:\tfalse\n",
    "    lat:\t38.938889\n",
    "    name:\t\"John McCormack Rd NE\"\n",
    "    eightd_station_services:\t[]\n",
    "    rental_uris:\t\n",
    "      ios:\t\"https://dc.lft.to/lastmile_qr_scan\"\n",
    "      android:\t\"https://dc.lft.to/lastmile_qr_scan\"\n",
    "    region_id:\t\"42\"\n",
    "last_updated: 1678656476\n",
    "```\n",
    "\n",
    "**[station_status](https://gbfs.capitalbikeshare.com/gbfs/en/station_status.json)**\n",
    "\n",
    "```json \n",
    "station:\n",
    "0:\t\n",
    "  num_docks_available:\t      13\n",
    "  is_renting:\t              1\n",
    "  station_status:\t      \"active\"\n",
    "  num_scooters_unavailable:   0\n",
    "  num_bikes_disabled:\t      0\n",
    "  num_docks_disabled:\t      0\n",
    "  num_ebikes_available:\t      0\n",
    "  station_id:\t              \"08263959-1f3f-11e7-bf6b-3863bb334450\"\n",
    "  is_installed:\t              1\n",
    "  last_reported:\t      1678665956\n",
    "  legacy_id:\t              \"436\"\n",
    "  num_bikes_available:\t      1\n",
    "  eightd_has_available_keys:  false\n",
    "  is_returning:\t              1\n",
    "  num_scooters_available:     0\n",
    "last_updated:                 1678666062\n",
    "```\n",
    "\n",
    "\n",
    "\n",
    "* free_bike_status\n",
    "\n",
    "* [system_regions](https://gbfs.capitalbikeshare.com/gbfs/en/system_regions.json) (Regions dimension table)"
   ]
  },
  {
   "cell_type": "code",
   "execution_count": 2,
   "metadata": {},
   "outputs": [],
   "source": [
    "import json \n",
    "import requests\n",
    "from time import sleep\n",
    "import datetime as dt "
   ]
  },
  {
   "cell_type": "code",
   "execution_count": 1,
   "metadata": {},
   "outputs": [],
   "source": [
    "url = \"https://gbfs.capitalbikeshare.com/gbfs/en/station_status.json\""
   ]
  }
 ],
 "metadata": {
  "kernelspec": {
   "display_name": "venv",
   "language": "python",
   "name": "python3"
  },
  "language_info": {
   "codemirror_mode": {
    "name": "ipython",
    "version": 3
   },
   "file_extension": ".py",
   "mimetype": "text/x-python",
   "name": "python",
   "nbconvert_exporter": "python",
   "pygments_lexer": "ipython3",
   "version": "3.7.16"
  },
  "orig_nbformat": 4,
  "vscode": {
   "interpreter": {
    "hash": "70623b801652781c2389d9f74154af1ef3dd8a50bfe8b7cd6824c1648ddc5ad0"
   }
  }
 },
 "nbformat": 4,
 "nbformat_minor": 2
}
