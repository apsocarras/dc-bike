{
 "cells": [
  {
   "attachments": {},
   "cell_type": "markdown",
   "metadata": {},
   "source": [
    "#### Downloading Historical Data"
   ]
  },
  {
   "cell_type": "code",
   "execution_count": 9,
   "metadata": {},
   "outputs": [],
   "source": [
    "import requests\n",
    "import boto3\n",
    "import io\n",
    "import zipfile\n",
    "import csv\n",
    "import pandas as pd\n",
    "import re\n",
    "import os\n",
    "from bs4 import BeautifulSoup"
   ]
  },
  {
   "attachments": {},
   "cell_type": "markdown",
   "metadata": {},
   "source": [
    "##### Downloading all files "
   ]
  },
  {
   "cell_type": "code",
   "execution_count": null,
   "metadata": {},
   "outputs": [],
   "source": [
    "# url = \"https://s3.amazonaws.com/capitalbikeshare-data/index.html\"\n",
    "# response = requests.get(url)\n",
    "# soup = BeautifulSoup(response.content, \"html.parser\") -- Accessing via s3 instead \n",
    "\n",
    "bucket_name = 'capitalbikeshare-data'\n",
    "prefix = ''\n",
    "\n",
    "s3 = boto3.client('s3')\n",
    "\n",
    "response = s3.list_objects_v2(Bucket=bucket_name, Prefix=prefix)\n",
    "\n",
    "csv_content = \"\"\n",
    "for obj in response['Contents']:\n",
    "    \n",
    "    if obj['Key'].endswith('.zip'):\n",
    "        \n",
    "        response = s3.get_object(Bucket=bucket_name, Key=obj['Key'])\n",
    "        zipfile_content = zipfile.ZipFile(io.BytesIO(response['Body'].read()))\n",
    "\n",
    "        for filename in zipfile_content.namelist():\n",
    "\n",
    "            # Check if file exists already\n",
    "            if os.path.exists(f\"../data/{filename}\"):\n",
    "                continue\n",
    "\n",
    "            # Extract the content as bytes object \n",
    "            csv_content = zipfile_content.read(filename)\n",
    "         \n",
    "            # Write to csv \n",
    "            with open(f\"../data/{filename}\", \"wb\") as fp:\n",
    "                fp.write(csv_content)"
   ]
  },
  {
   "cell_type": "code",
   "execution_count": null,
   "metadata": {},
   "outputs": [],
   "source": [
    "import os\n",
    "\n",
    "total_size = 0\n",
    "for dirpath, dirnames, filenames in os.walk('../data/'):\n",
    "    for f in filenames:\n",
    "        fp = os.path.join(dirpath, f)\n",
    "        total_size += os.path.getsize(fp)\n",
    "\n",
    "total_size # ~4.818 GB"
   ]
  },
  {
   "attachments": {},
   "cell_type": "markdown",
   "metadata": {},
   "source": [
    "##### Concatenating Files\n",
    "\n",
    "Before we concatenate we have to determine the different schemas used in each file. "
   ]
  },
  {
   "cell_type": "code",
   "execution_count": 131,
   "metadata": {},
   "outputs": [
    {
     "data": {
      "text/html": [
       "<div>\n",
       "<style scoped>\n",
       "    .dataframe tbody tr th:only-of-type {\n",
       "        vertical-align: middle;\n",
       "    }\n",
       "\n",
       "    .dataframe tbody tr th {\n",
       "        vertical-align: top;\n",
       "    }\n",
       "\n",
       "    .dataframe thead th {\n",
       "        text-align: right;\n",
       "    }\n",
       "</style>\n",
       "<table border=\"1\" class=\"dataframe\">\n",
       "  <thead>\n",
       "    <tr style=\"text-align: right;\">\n",
       "      <th></th>\n",
       "      <th>year</th>\n",
       "      <th>month</th>\n",
       "      <th>quarter</th>\n",
       "      <th>header</th>\n",
       "    </tr>\n",
       "  </thead>\n",
       "  <tbody>\n",
       "    <tr>\n",
       "      <th>28</th>\n",
       "      <td>2010</td>\n",
       "      <td>None</td>\n",
       "      <td>None</td>\n",
       "      <td>Duration,Start date,End date,Start station num...</td>\n",
       "    </tr>\n",
       "    <tr>\n",
       "      <th>85</th>\n",
       "      <td>2011</td>\n",
       "      <td>None</td>\n",
       "      <td>None</td>\n",
       "      <td>Duration,Start date,End date,Start station num...</td>\n",
       "    </tr>\n",
       "    <tr>\n",
       "      <th>10</th>\n",
       "      <td>2012</td>\n",
       "      <td>None</td>\n",
       "      <td>1</td>\n",
       "      <td>Duration,Start date,End date,Start station num...</td>\n",
       "    </tr>\n",
       "    <tr>\n",
       "      <th>0</th>\n",
       "      <td>2012</td>\n",
       "      <td>None</td>\n",
       "      <td>2</td>\n",
       "      <td>Duration,Start date,End date,Start station num...</td>\n",
       "    </tr>\n",
       "    <tr>\n",
       "      <th>87</th>\n",
       "      <td>2012</td>\n",
       "      <td>None</td>\n",
       "      <td>3</td>\n",
       "      <td>Duration,Start date,End date,Start station num...</td>\n",
       "    </tr>\n",
       "    <tr>\n",
       "      <th>...</th>\n",
       "      <td>...</td>\n",
       "      <td>...</td>\n",
       "      <td>...</td>\n",
       "      <td>...</td>\n",
       "    </tr>\n",
       "    <tr>\n",
       "      <th>18</th>\n",
       "      <td>2022</td>\n",
       "      <td>10</td>\n",
       "      <td>None</td>\n",
       "      <td>ride_id,rideable_type,started_at,ended_at,star...</td>\n",
       "    </tr>\n",
       "    <tr>\n",
       "      <th>42</th>\n",
       "      <td>2022</td>\n",
       "      <td>11</td>\n",
       "      <td>None</td>\n",
       "      <td>ride_id,rideable_type,started_at,ended_at,star...</td>\n",
       "    </tr>\n",
       "    <tr>\n",
       "      <th>3</th>\n",
       "      <td>2022</td>\n",
       "      <td>12</td>\n",
       "      <td>None</td>\n",
       "      <td>ride_id,rideable_type,started_at,ended_at,star...</td>\n",
       "    </tr>\n",
       "    <tr>\n",
       "      <th>81</th>\n",
       "      <td>2023</td>\n",
       "      <td>01</td>\n",
       "      <td>None</td>\n",
       "      <td>ride_id,rideable_type,started_at,ended_at,star...</td>\n",
       "    </tr>\n",
       "    <tr>\n",
       "      <th>11</th>\n",
       "      <td>2023</td>\n",
       "      <td>02</td>\n",
       "      <td>None</td>\n",
       "      <td>ride_id,rideable_type,started_at,ended_at,star...</td>\n",
       "    </tr>\n",
       "  </tbody>\n",
       "</table>\n",
       "<p>88 rows × 4 columns</p>\n",
       "</div>"
      ],
      "text/plain": [
       "    year month quarter                                             header\n",
       "28  2010  None    None  Duration,Start date,End date,Start station num...\n",
       "85  2011  None    None  Duration,Start date,End date,Start station num...\n",
       "10  2012  None       1  Duration,Start date,End date,Start station num...\n",
       "0   2012  None       2  Duration,Start date,End date,Start station num...\n",
       "87  2012  None       3  Duration,Start date,End date,Start station num...\n",
       "..   ...   ...     ...                                                ...\n",
       "18  2022    10    None  ride_id,rideable_type,started_at,ended_at,star...\n",
       "42  2022    11    None  ride_id,rideable_type,started_at,ended_at,star...\n",
       "3   2022    12    None  ride_id,rideable_type,started_at,ended_at,star...\n",
       "81  2023    01    None  ride_id,rideable_type,started_at,ended_at,star...\n",
       "11  2023    02    None  ride_id,rideable_type,started_at,ended_at,star...\n",
       "\n",
       "[88 rows x 4 columns]"
      ]
     },
     "execution_count": 131,
     "metadata": {},
     "output_type": "execute_result"
    }
   ],
   "source": [
    "file_metadata = []\n",
    "for file in os.listdir(\"../data\"): \n",
    "\n",
    "    with open(os.path.join(\"../data\", file), \"r\") as fp:\n",
    "        header = fp.readline().strip()\n",
    "        header = re.sub('\"',\"\", header)\n",
    "\n",
    "\n",
    "    year = re.match('[0-9]{4}', file)[0]\n",
    "    try:\n",
    "        quarter = re.search(r'(?<=Q)[0-9]', file)[0]\n",
    "    except: \n",
    "        quarter = None \n",
    "    try: \n",
    "        month = re.search(r'(?<=\\d{4})\\d{2}', file)[0]\n",
    "    except:\n",
    "        month = None \n",
    "\n",
    "    file_metadata.append({'year':year, 'month':month, 'quarter':quarter, 'header':header})\n",
    "\n",
    "df = pd.DataFrame(file_metadata)\n",
    "df.sort_values([\"year\",\"month\", \"quarter\"], inplace=True)\n",
    "df"
   ]
  },
  {
   "cell_type": "code",
   "execution_count": 132,
   "metadata": {},
   "outputs": [
    {
     "data": {
      "text/plain": [
       "Duration,Start date,End date,Start station number,Start station,End station number,End station,Bike number,Member type                                             53\n",
       "ride_id,rideable_type,started_at,ended_at,start_station_name,start_station_id,end_station_name,end_station_id,start_lat,start_lng,end_lat,end_lng,member_casual    35\n",
       "Name: header, dtype: int64"
      ]
     },
     "execution_count": 132,
     "metadata": {},
     "output_type": "execute_result"
    }
   ],
   "source": [
    "df.header.value_counts()\n"
   ]
  },
  {
   "cell_type": "code",
   "execution_count": 137,
   "metadata": {},
   "outputs": [
    {
     "data": {
      "text/plain": [
       "year                                                    2020\n",
       "month                                                     04\n",
       "quarter                                                 None\n",
       "header     ride_id,rideable_type,started_at,ended_at,star...\n",
       "Name: 72, dtype: object"
      ]
     },
     "execution_count": 137,
     "metadata": {},
     "output_type": "execute_result"
    }
   ],
   "source": [
    "new_header = \"ride_id,rideable_type,started_at,ended_at,start_station_name,start_station_id,end_station_name,end_station_id,start_lat,start_lng,end_lat,end_lng,member_casual\"\n",
    "df[df['header'] == new_header].iloc[0] # New header first used 04/2020"
   ]
  },
  {
   "attachments": {},
   "cell_type": "markdown",
   "metadata": {},
   "source": [
    "`rideable_type`, `start_lat`, `start_lng`, `end_lat`, and `end_lng` are notable new fields in the new schema format. Let's concatenate the files but keep them separate according to the different schema versions. "
   ]
  },
  {
   "cell_type": "code",
   "execution_count": 74,
   "metadata": {},
   "outputs": [
    {
     "data": {
      "text/plain": [
       "['202002-capitalbikeshare-tripdata.csv',\n",
       " '202207-capitalbikeshare-tripdata.csv',\n",
       " '202212-capitalbikeshare-tripdata.csv',\n",
       " '201810-capitalbikeshare-tripdata.csv',\n",
       " '202010-capitalbikeshare-tripdata.csv',\n",
       " '201802-capitalbikeshare-tripdata.csv',\n",
       " '202007-capitalbikeshare-tripdata.csv',\n",
       " '201811-capitalbikeshare-tripdata.csv',\n",
       " '2012Q1-capitalbikeshare-tripdata.csv',\n",
       " '202302-captialbikeshare-tripdata.csv',\n",
       " '201807-capitalbikeshare-tripdata.csv',\n",
       " '202101-capitalbikeshare-tripdata.csv',\n",
       " '202204-capitalbikeshare-tripdata.csv',\n",
       " '202210-capitalbikeshare-tripdata.csv',\n",
       " '201904-capitalbikeshare-tripdata.csv',\n",
       " '201909-capitalbikeshare-tripdata.csv',\n",
       " '202202-capitalbikeshare-tripdata.csv',\n",
       " '2015Q1-capitalbikeshare-tripdata.csv',\n",
       " '201911-capitalbikeshare-tripdata.csv',\n",
       " '2017Q1-capitalbikeshare-tripdata.csv',\n",
       " '202201-capitalbikeshare-tripdata.csv',\n",
       " '2010-capitalbikeshare-tripdata.csv',\n",
       " '2016Q1-capitalbikeshare-tripdata.csv',\n",
       " '201801_capitalbikeshare_tripdata.csv',\n",
       " '202006-capitalbikeshare-tripdata.csv',\n",
       " '202107-capitalbikeshare-tripdata.csv',\n",
       " '202111-capitalbikeshare-tripdata.csv',\n",
       " '202005-capitalbikeshare-tripdata.csv',\n",
       " '202108-capitalbikeshare-tripdata.csv',\n",
       " '201803-capitalbikeshare-tripdata.csv',\n",
       " '202001-capitalbikeshare-tripdata.csv',\n",
       " '202110-capitalbikeshare-tripdata.csv',\n",
       " '202011-capitalbikeshare-tripdata.csv',\n",
       " '202109-capitalbikeshare-tripdata.csv',\n",
       " '202211-capitalbikeshare-tripdata.csv',\n",
       " '201903-capitalbikeshare-tripdata.csv',\n",
       " '201808-capitalbikeshare-tripdata.csv',\n",
       " '201906-capitalbikeshare-tripdata.csv',\n",
       " '202208-capitalbikeshare-tripdata.csv',\n",
       " '202209-capitalbikeshare-tripdata.csv',\n",
       " '202103-capitalbikeshare-tripdata.csv',\n",
       " '202012-capitalbikeshare-tripdata.csv',\n",
       " '201912-capitalbikeshare-tripdata.csv',\n",
       " '202205-capitalbikeshare-tripdata.csv',\n",
       " '201902-capitalbikeshare-tripdata.csv',\n",
       " '201905-capitalbikeshare-tripdata.csv',\n",
       " '201910-capitalbikeshare-tripdata.csv',\n",
       " '201804-capitalbikeshare-tripdata.csv',\n",
       " '202106-capitalbikeshare-tripdata.csv',\n",
       " '201901-capitalbikeshare-tripdata.csv',\n",
       " '2014Q1-capitalbikeshare-tripdata.csv',\n",
       " '202206-capitalbikeshare-tripdata.csv',\n",
       " '202112-capitalbikeshare-tripdata.csv',\n",
       " '202003-capitalbikeshare-tripdata.csv',\n",
       " '2013Q1-capitalbikeshare-tripdata.csv',\n",
       " '202009-capitalbikeshare-tripdata.csv',\n",
       " '201809-capitalbikeshare-tripdata.csv',\n",
       " '202104-capitalbikeshare-tripdata.csv',\n",
       " '202008-capitalbikeshare-tripdata.csv',\n",
       " '202004-capitalbikeshare-tripdata.csv',\n",
       " '201806-capitalbikeshare-tripdata.csv',\n",
       " '201907-capitalbikeshare-tripdata.csv',\n",
       " '202105-capitalbikeshare-tripdata.csv',\n",
       " '202203-capitalbikeshare-tripdata.csv',\n",
       " '201805-capitalbikeshare-tripdata.csv',\n",
       " '202301-capitalbikeshare-tripdata.csv',\n",
       " '201908-capitalbikeshare-tripdata.csv',\n",
       " '201812-capitalbikeshare-tripdata.csv',\n",
       " '202102-capitalbikeshare-tripdata.csv',\n",
       " '2011-capitalbikeshare-tripdata.csv']"
      ]
     },
     "execution_count": 74,
     "metadata": {},
     "output_type": "execute_result"
    }
   ],
   "source": [
    "os.listdir(\"../data\")"
   ]
  }
 ],
 "metadata": {
  "kernelspec": {
   "display_name": "venv",
   "language": "python",
   "name": "python3"
  },
  "language_info": {
   "codemirror_mode": {
    "name": "ipython",
    "version": 3
   },
   "file_extension": ".py",
   "mimetype": "text/x-python",
   "name": "python",
   "nbconvert_exporter": "python",
   "pygments_lexer": "ipython3",
   "version": "3.7.16"
  },
  "orig_nbformat": 4,
  "vscode": {
   "interpreter": {
    "hash": "70623b801652781c2389d9f74154af1ef3dd8a50bfe8b7cd6824c1648ddc5ad0"
   }
  }
 },
 "nbformat": 4,
 "nbformat_minor": 2
}
